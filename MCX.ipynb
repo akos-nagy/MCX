{
  "cells": [
    {
      "cell_type": "markdown",
      "id": "IPRVQYBNTx8w",
      "metadata": {
        "id": "IPRVQYBNTx8w"
      },
      "source": [
        "## loading necessary libraries"
      ]
    },
    {
      "cell_type": "code",
      "execution_count": 1,
      "id": "dlRKQIAC6D00",
      "metadata": {
        "id": "dlRKQIAC6D00"
      },
      "outputs": [],
      "source": [
        "from qiskit.circuit import QuantumCircuit, QuantumRegister\n",
        "from qiskit.quantum_info import Operator\n",
        "import numpy as np"
      ]
    },
    {
      "cell_type": "markdown",
      "id": "f64e652d",
      "metadata": {},
      "source": [
        "# Matrix of the multi-controlled NOT gate"
      ]
    },
    {
      "cell_type": "code",
      "execution_count": 2,
      "id": "d0bdf534",
      "metadata": {},
      "outputs": [],
      "source": [
        "def UMCX(n: int):\n",
        "    return np.array([[1 if (i == j and i < (1 << (n + 1)) - 2) or [i, j] == [(1 << (n + 1)) - 1, (1 << (n + 1)) - 2] or [i, j] == [(1 << (n + 1)) - 2, (1 << (n + 1)) - 1] else 0 for i in range(1 << (n + 1))] for j in range(1 << (n + 1))])"
      ]
    },
    {
      "cell_type": "markdown",
      "id": "965e2964",
      "metadata": {},
      "source": [
        "# Construction of the multi-controlled NOT gate"
      ]
    },
    {
      "cell_type": "code",
      "execution_count": 5,
      "id": "a417cfce",
      "metadata": {},
      "outputs": [],
      "source": [
        "def MCX(n: int):\n",
        "\n",
        "    QRegs = QuantumRegister(n + 1, \"q\")\n",
        "    QC = QuantumCircuit(QRegs)\n",
        "\n",
        "    QControl, QTarget = QRegs[1:], QRegs[0]\n",
        "\n",
        "    # QC.h(QTarget) in terms of U gates\n",
        "    QC.u(np.pi / 2, 0, np.pi, QTarget)\n",
        "\n",
        "    # Step 1.\n",
        "    for i, q in enumerate(reversed(QControl[1:])):\n",
        "        # QC.cp(alpha * np.exp2(- (i + 1)), q, QTarget) in terms of U and CNOT gates\n",
        "        QC.u(0, 0, np.pi * np.exp2(- (i + 2)), q)\n",
        "        QC.u(0, 0, np.pi * np.exp2(- (i + 2)), QTarget)\n",
        "        QC.cx(q, QTarget)\n",
        "        QC.u(0, 0, - np.pi * np.exp2(- (i + 2)), QTarget)\n",
        "        QC.cx(q, QTarget)\n",
        "    \n",
        "        for j, p in enumerate(QControl[len(QControl) - i:]):\n",
        "            # QC.crx(np.pi * np.exp2(- (j + 1)), q, p) in terms of U and CNOT gates\n",
        "            QC.u(0, 0, np.pi / 2, p)\n",
        "            QC.cx(q, p)\n",
        "            QC.u(- np.pi * np.exp2(- (j + 2)), 0, 0, p)\n",
        "            QC.cx(q, p)\n",
        "            QC.u(np.pi * np.exp2(- (j + 2)), - np.pi / 2, 0, p)\n",
        "\n",
        "    # Step 2.\n",
        "    # QC.cp(alpha * np.exp2(1 - len(QControl)), QControl[0], QTarget) in terms of U and CNOT gates\n",
        "    QC.u(0, 0, np.pi * np.exp2(- len(QControl)), QControl[0])\n",
        "    QC.u(0, 0, np.pi * np.exp2(- len(QControl)), QTarget)\n",
        "    QC.cx(QControl[0], QTarget)\n",
        "    QC.u(0, 0, - np.pi * np.exp2(- len(QControl)), QTarget)\n",
        "    QC.cx(QControl[0], QTarget)\n",
        "\n",
        "    for i, q in enumerate(QControl[1:]):\n",
        "        # QC.crx(np.pi * np.exp2(- i), QControl[0], q) in terms of U and CNOT gates\n",
        "        QC.u(0, 0, np.pi / 2, q)\n",
        "        QC.cx(QControl[0], q)\n",
        "        QC.u(- np.pi * np.exp2(- (i + 1)), 0, 0, q)\n",
        "        QC.cx(QControl[0], q)\n",
        "        QC.u(np.pi * np.exp2(- (i + 1)), - np.pi / 2, 0, q)\n",
        "\n",
        "    # Step 3.\n",
        "    for i, q in enumerate(QControl[1:]):\n",
        "        # QC.cp(- alpha * np.exp2(i + 1 - len(QControl)), q, QTarget) in terms of U and CNOT gates\n",
        "        QC.u(0, 0, - np.pi * np.exp2(i - len(QControl)), q)\n",
        "        QC.u(0, 0, - np.pi * np.exp2(i - len(QControl)), QTarget)\n",
        "        QC.cx(q, QTarget)\n",
        "        QC.u(0, 0, np.pi * np.exp2(i - len(QControl)), QTarget)\n",
        "        QC.cx(q, QTarget)\n",
        "\n",
        "        for j, p in enumerate(QControl[i + 2:]):\n",
        "            # QC.crx(- np.pi * np.exp2(- (j + 1)), q, p) in terms of U and CNOT gates\n",
        "            QC.u(0, 0, np.pi / 2, p)\n",
        "            QC.cx(q, p)\n",
        "            QC.u(np.pi * np.exp2(- (j + 2)), 0, 0, p)\n",
        "            QC.cx(q, p)\n",
        "            QC.u(- np.pi * np.exp2(- (j + 2)), - np.pi / 2, 0, p)\n",
        "\n",
        "    # Step 4.\n",
        "    for i, q in enumerate(reversed(QControl[1:])):\n",
        "        for j, p in enumerate(QControl[len(QControl) - i:]):\n",
        "            # QC.crx(np.pi * np.exp2(- (j + 1)), q, p) in terms of U and CNOT gates\n",
        "            QC.u(0, 0, np.pi / 2, p)\n",
        "            QC.cx(q, p)\n",
        "            QC.u(- np.pi * np.exp2(- (j + 2)), 0, 0, p)\n",
        "            QC.cx(q, p)\n",
        "            QC.u(np.pi * np.exp2(- (j + 2)), - np.pi / 2, 0, p)\n",
        "\n",
        "    # Step 5.\n",
        "    for i, q in enumerate(QControl[1:]):\n",
        "        # QC.crx(- np.pi * np.exp2(- i), QControl[0], q) in terms of U and CNOT gates\n",
        "        QC.u(0, 0, np.pi / 2, q)\n",
        "        QC.cx(QControl[0], q)\n",
        "        QC.u(np.pi * np.exp2(- (i + 1)), 0, 0, q)\n",
        "        QC.cx(QControl[0], q)\n",
        "        QC.u(- np.pi * np.exp2(- (i + 1)), - np.pi / 2, 0, q)\n",
        "    \n",
        "    # Step 6.\n",
        "    for i, q in enumerate(QControl[1:]):\n",
        "        for j, p in enumerate(QControl[i + 2:]):\n",
        "            # QC.crx(- np.pi * np.exp2(- (j + 1)), q, p) in terms of U and CNOT gates\n",
        "            QC.u(0, 0, np.pi / 2, p)\n",
        "            QC.cx(q, p)\n",
        "            QC.u(np.pi * np.exp2(- (j + 2)), 0, 0, p)\n",
        "            QC.cx(q, p)\n",
        "            QC.u(- np.pi * np.exp2(- (j + 2)), - np.pi / 2, 0, p)\n",
        "\n",
        "    # QC.h(QTarget) in terms of U gates\n",
        "    QC.u(np.pi / 2, 0, np.pi, QTarget)\n",
        "\n",
        "    return QC"
      ]
    },
    {
      "cell_type": "code",
      "execution_count": 6,
      "id": "60725ae0",
      "metadata": {},
      "outputs": [
        {
          "data": {
            "text/plain": [
              "0.0"
            ]
          },
          "execution_count": 6,
          "metadata": {},
          "output_type": "execute_result"
        }
      ],
      "source": [
        "np.linalg.norm(np.round(np.array(Operator(MCX(2))) - UMCX(2), 1))"
      ]
    },
    {
      "cell_type": "markdown",
      "id": "6e82ccae",
      "metadata": {},
      "source": [
        "# Testing"
      ]
    },
    {
      "cell_type": "code",
      "execution_count": 7,
      "id": "1f35ae0b",
      "metadata": {},
      "outputs": [
        {
          "name": "stdout",
          "output_type": "stream",
          "text": [
            "the quadratic (l2) rounding error for n = 2 is 2.9146197658401005e-14%\n",
            "circuit depth = 22\n",
            "the quadratic (l2) rounding error for n = 3 is 4.213080496118039e-14%\n",
            "circuit depth = 46\n",
            "the quadratic (l2) rounding error for n = 4 is 1.131538518235862e-13%\n",
            "circuit depth = 76\n",
            "the quadratic (l2) rounding error for n = 5 is 1.2077651746554987e-13%\n",
            "circuit depth = 112\n",
            "the quadratic (l2) rounding error for n = 6 is 1.3653447098732616e-13%\n",
            "circuit depth = 154\n",
            "the quadratic (l2) rounding error for n = 7 is 1.918710586982283e-13%\n",
            "circuit depth = 202\n",
            "the quadratic (l2) rounding error for n = 8 is 2.703583809460644e-13%\n",
            "circuit depth = 256\n"
          ]
        }
      ],
      "source": [
        "N = 8\n",
        "for n in range(2, N + 1):\n",
        "    QC = MCX(n)\n",
        "    U_gate, depth = np.array(Operator(QC)), QC.depth\n",
        "    U_matrix = UMCX(n)\n",
        "    print(f\"the quadratic (l2) rounding error for n = {n} is {100 * np.linalg.norm(U_gate - U_matrix)/(n + 1)}%\")\n",
        "    print(f\"circuit depth = {QC.depth()}\")"
      ]
    },
    {
      "cell_type": "markdown",
      "id": "c3b5190f",
      "metadata": {},
      "source": [
        "# Remark:\n",
        "The following code is a generalization of the above one and it implements a multi-controlled phase gate that scales polynomially with the number of qubits, as opposed to qiskit's own decomposition whose gate count, circuit depth, and CNOT count are all const. * 2**n"
      ]
    },
    {
      "cell_type": "code",
      "execution_count": 12,
      "id": "9afc6958",
      "metadata": {},
      "outputs": [],
      "source": [
        "def MCX(n: int):\n",
        "\n",
        "    QRegs = QuantumRegister(n + 1, \"q\")\n",
        "    QC = QuantumCircuit(QRegs)\n",
        "\n",
        "    QControl, QTarget = QRegs[1:], QRegs[0]\n",
        "    for i, q in enumerate(reversed(QControl[1:])):\n",
        "        for j, p in enumerate(QControl[len(QControl) - i:]):\n",
        "            QC.crx(np.pi * np.exp2(- (j + 1)), q, p)\n",
        "        QC.cp(alpha * np.exp2(- (i + 1)), q, QTarget)\n",
        "\n",
        "    for i, q in enumerate(QControl[1:]):\n",
        "        QC.crx(np.pi * np.exp2(- i), QControl[0], q)\n",
        "        QC.cp(- alpha * np.exp2(i + 1 - len(QControl)), q, QTarget)\n",
        "        for j, p in enumerate(QControl[i + 2:]):\n",
        "            QC.crx(- np.pi * np.exp2(- (j + 1)), q, p)\n",
        "\n",
        "    QC.cp(alpha * np.exp2(1 - len(QControl)), QControl[0], QTarget)\n",
        "\n",
        "    for i, q in enumerate(reversed(QControl[1:])):\n",
        "        for j, p in enumerate(QControl[len(QControl) - i:]):\n",
        "            QC.crx(np.pi * np.exp2(- (j + 1)), q, p)\n",
        "\n",
        "    for i, q in enumerate(QControl[1:]):\n",
        "        QC.crx(- np.pi * np.exp2(- i), QControl[0], q)\n",
        "        for j, p in enumerate(QControl[i + 2:]):\n",
        "            QC.crx(- np.pi * np.exp2(- (j + 1)), q, p)\n",
        "    \n",
        "    return QC"
      ]
    },
    {
      "cell_type": "code",
      "execution_count": null,
      "id": "32aa3739",
      "metadata": {},
      "outputs": [],
      "source": []
    }
  ],
  "metadata": {
    "colab": {
      "collapsed_sections": [
        "THzaoqHo13RE",
        "FTiJALVtnQIW",
        "IPRVQYBNTx8w",
        "kZZELK6X0Djw",
        "uPdo4AqbiLkw",
        "V-voj0syK7t6",
        "4JOxrrxxqNcT"
      ],
      "provenance": []
    },
    "kernelspec": {
      "display_name": "Python 3 (ipykernel)",
      "language": "python",
      "name": "python3"
    },
    "language_info": {
      "codemirror_mode": {
        "name": "ipython",
        "version": 3
      },
      "file_extension": ".py",
      "mimetype": "text/x-python",
      "name": "python",
      "nbconvert_exporter": "python",
      "pygments_lexer": "ipython3",
      "version": "3.11.5"
    }
  },
  "nbformat": 4,
  "nbformat_minor": 5
}
